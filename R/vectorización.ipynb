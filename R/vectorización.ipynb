{
 "cells": [
  {
   "cell_type": "code",
   "execution_count": null,
   "metadata": {},
   "outputs": [
    {
     "ename": "",
     "evalue": "",
     "output_type": "error",
     "traceback": [
      "\u001b[1;31mFailed to start the Kernel. \n",
      "\u001b[1;31munknown option --slave\n",
      "\u001b[1;31musage: c:\\Users\\JuanMarmol\\miniconda3\\envs\\nlp\\python.exe [option] ... [-c cmd | -m mod | file | -] [arg] ...\n",
      "\u001b[1;31mTry `python -h' for more information. \n",
      "\u001b[1;31mView Jupyter <a href='command:jupyter.viewOutput'>log</a> for further details."
     ]
    }
   ],
   "source": [
    "# Necesidad de vectorización\n",
    "\n",
    "a <- rnorm(1000000)\n",
    "b <- rnorm(1000000)"
   ]
  },
  {
   "cell_type": "code",
   "execution_count": 2,
   "metadata": {},
   "outputs": [
    {
     "name": "stdout",
     "output_type": "stream",
     "text": [
      "Time difference of 0.007001877 secs\n"
     ]
    }
   ],
   "source": [
    "ini <- Sys.time()\n",
    "c=a+b\n",
    "fin <- Sys.time()\n",
    "print(t1<-fin-ini)"
   ]
  },
  {
   "cell_type": "code",
   "execution_count": 3,
   "metadata": {},
   "outputs": [
    {
     "name": "stdout",
     "output_type": "stream",
     "text": [
      "Time difference of 0.114002 secs\n"
     ]
    }
   ],
   "source": [
    "ini <- Sys.time()\n",
    "for (i in 1:length(a)) {\n",
    "  c[i]=a[i]+b[i]\n",
    "}\n",
    "fin <- Sys.time()\n",
    "print(t2<-fin-ini)"
   ]
  },
  {
   "cell_type": "code",
   "execution_count": 5,
   "metadata": {},
   "outputs": [
    {
     "name": "stdout",
     "output_type": "stream",
     "text": [
      "[1] 16.28163\n"
     ]
    }
   ],
   "source": [
    "print(as.numeric(t2)/as.numeric(t1))"
   ]
  },
  {
   "cell_type": "code",
   "execution_count": null,
   "metadata": {},
   "outputs": [],
   "source": []
  }
 ],
 "metadata": {
  "kernelspec": {
   "display_name": "R",
   "language": "python",
   "name": "ir"
  },
  "language_info": {
   "codemirror_mode": "r",
   "file_extension": ".r",
   "mimetype": "text/x-r-source",
   "name": "python",
   "pygments_lexer": "r",
   "version": "3.10.4"
  },
  "vscode": {
   "interpreter": {
    "hash": "b6189fdc1bcb16d365dbe9c749c40cb51991c3448f6c0e162f431884488aded4"
   }
  }
 },
 "nbformat": 4,
 "nbformat_minor": 2
}
